{
 "cells": [
  {
   "cell_type": "markdown",
   "metadata": {},
   "source": [
    "# OpenET GEESEBAL\n",
    "## Image Class Property/Method Example\n",
    "This example shows how to instantiate the model Image class for a single Landsat image using the \".from_landsat_c1_sr()\" helper method.  This example also shows how to get the model variables."
   ]
  },
  {
   "cell_type": "markdown",
   "metadata": {},
   "source": [
    "## Setup"
   ]
  },
  {
   "cell_type": "code",
   "execution_count": null,
   "metadata": {},
   "outputs": [],
   "source": [
    "import pprint\n",
    "import sys\n",
    "import ee\n",
    "from IPython.display import Image\n",
    "\n",
    "sys.path.append(r'C:/Users/bruno/OneDrive/Documents/GitHub/openet-geesebal')\n",
    "\n",
    "import openet.geesebal as model\n",
    "print(model)"
   ]
  },
  {
   "cell_type": "markdown",
   "metadata": {},
   "source": [
    "### Initialize Earth Engine"
   ]
  },
  {
   "cell_type": "code",
   "execution_count": null,
   "metadata": {},
   "outputs": [],
   "source": [
    "# Initialize the Earth Engine package, initiating the authentication flow if needed.\n",
    "try:\n",
    "    ee.Initialize(project='et-brasil')\n",
    "except ee.EEException:\n",
    "    ee.Authenticate()\n",
    "    ee.Initialize(project='et-brasil')"
   ]
  },
  {
   "cell_type": "markdown",
   "metadata": {},
   "source": [
    "## Analysis"
   ]
  },
  {
   "cell_type": "code",
   "execution_count": null,
   "metadata": {},
   "outputs": [],
   "source": [
    "ndvi_palette = [\n",
    "    '#0010FF','#1020FF','#2030FF','#3040FF','#4050FF','#5060FF','#6070FF',\n",
    "    '#7080FF','#8090FF','#90A0FF','#A0B0FF','#B0C0FF','#C0D0FF','#D0E0FF',\n",
    "    '#E0F0FF','#F0FFFF',\n",
    "    'ffffff',\n",
    "    'ce7e45', 'df923d', 'f1b555', 'fcd163', '99b718', '74a901',\n",
    "    '66a000', '529400', '3e8601', '207401', '056201', '004c00', '023b01',\n",
    "    '012e01', '011d01', '011301']\n",
    "et_palette = [\n",
    "    'DEC29B', 'E6CDA1', 'EDD9A6', 'F5E4A9', 'FFF4AD', 'C3E683', '6BCC5C', \n",
    "    '3BB369', '20998F', '1C8691', '16678A', '114982', '0B2C7A']\n",
    "viridis_palette = ['440154', '433982', '30678D', '218F8B', '36B677', '8ED542', 'FDE725']\n",
    "temp_palette = ['#380061','#2222ab','#5676d6','#83a3da','#dfdbb3','#da8c83','#d35454','#b02323','#4d0f0f']\n",
    "\n",
    "image_size = 768"
   ]
  },
  {
   "cell_type": "markdown",
   "metadata": {},
   "source": [
    "### Landsat 8 Collection 1 SR Image"
   ]
  },
  {
   "cell_type": "code",
   "execution_count": null,
   "metadata": {},
   "outputs": [],
   "source": [
    "\n",
    "landsat_img = ee.Image('LANDSAT/LC08/C02/T1_L2/LC08_044033_20170716')\n",
    "landsat_crs = landsat_img.select('SR_B3').projection().getInfo()['crs']\n",
    "landsat_region = landsat_img.geometry().bounds(1, 'EPSG:4326')\n",
    "landsat_dt = ee.Date(landsat_img.get('system:time_start'))\n",
    "\n",
    "# print(landsat_img.get('system:time_start').getInfo())"
   ]
  },
  {
   "cell_type": "code",
   "execution_count": null,
   "metadata": {},
   "outputs": [],
   "source": [
    "# image_url = landsat_img.select(['B4', 'B3', 'B2'])\\\n",
    "#     .multiply([0.0001, 0.0001, 0.0001])\\\n",
    "#     .getThumbURL({'min': 0.0, 'max': 0.3, \n",
    "#                   'region': landsat_region, 'dimensions': image_size})\n",
    "# Image(image_url, embed=True, format='png')"
   ]
  },
  {
   "cell_type": "code",
   "execution_count": null,
   "metadata": {},
   "outputs": [],
   "source": [
    "# Uncomment for Collection 2\n",
    "image_url = landsat_img.select(['SR_B4', 'SR_B3', 'SR_B2'])\\\n",
    "    .multiply([0.0000275, 0.0000275, 0.0000275])\\\n",
    "    .add([-0.2, -0.2, -0.2])\\\n",
    "    .getThumbURL({'min': 0.0, 'max': 0.23, \n",
    "                  'region': landsat_region, 'dimensions': image_size})\n",
    "Image(image_url, embed=True, format='png')"
   ]
  },
  {
   "cell_type": "code",
   "execution_count": null,
   "metadata": {},
   "outputs": [],
   "source": [
    "# Build the geeSEBAL object from the Landsat image\n",
    "model_obj = model.Image.from_landsat_c2_sr(\n",
    "    landsat_img, \n",
    "    # et_reference_source='projects/climate-engine/cimis/daily', \n",
    "    # et_reference_band='ETr_ASCE',\n",
    "    et_reference_source='IDAHO_EPSCOR/GRIDMET', \n",
    "    et_reference_band='etr', \n",
    "#     et_reference_factor=0.85,\n",
    "    et_reference_resample='bilinear',\n",
    "    calibration_points=10\n",
    ")"
   ]
  },
  {
   "cell_type": "code",
   "execution_count": null,
   "metadata": {},
   "outputs": [],
   "source": [
    "# pprint.pprint(model_obj.geometry.getInfo())"
   ]
  },
  {
   "cell_type": "markdown",
   "metadata": {},
   "source": [
    "### NDVI"
   ]
  },
  {
   "cell_type": "code",
   "execution_count": null,
   "metadata": {},
   "outputs": [],
   "source": [
    "image_url = model_obj.ndvi\\\n",
    "    .getThumbURL({'min': -1, 'max': 1, 'palette': ndvi_palette, \n",
    "                  'region': landsat_region, 'dimensions': image_size})\n",
    "Image(image_url, embed=True, format='png')"
   ]
  },
  {
   "cell_type": "markdown",
   "metadata": {},
   "source": [
    "### LST"
   ]
  },
  {
   "cell_type": "code",
   "execution_count": null,
   "metadata": {},
   "outputs": [],
   "source": [
    "image_url = model_obj.lst\\\n",
    "    .getThumbURL({'min': 0+273.15, 'max': 50+273.15, 'palette':temp_palette, \n",
    "                  'region': landsat_region, 'dimensions': image_size})\n",
    "Image(image_url, embed=True, format='png')"
   ]
  },
  {
   "cell_type": "markdown",
   "metadata": {},
   "source": [
    "### ET fraction"
   ]
  },
  {
   "cell_type": "code",
   "execution_count": null,
   "metadata": {},
   "outputs": [],
   "source": [
    "image_url = model_obj.et_fraction\\\n",
    "    .getThumbURL({'min': 0.0, 'max': 1, 'palette': et_palette, \n",
    "                  'region': landsat_region, 'dimensions': image_size})\n",
    "Image(image_url, embed=True, format='png')"
   ]
  },
  {
   "cell_type": "markdown",
   "metadata": {},
   "source": [
    "### Reference ET"
   ]
  },
  {
   "cell_type": "code",
   "execution_count": null,
   "metadata": {},
   "outputs": [],
   "source": [
    "# # Clip and project to the Landsat image footprint and coordinate system\n",
    "# image_url = model_obj.et_reference\\\n",
    "#     .getThumbURL({'min': 0.0, 'max': 12, 'palette': et_palette, \n",
    "#                   'region': landsat_region, 'dimensions': image_size})\n",
    "# Image(image_url, embed=True, format='png')"
   ]
  },
  {
   "cell_type": "markdown",
   "metadata": {},
   "source": [
    "### ET"
   ]
  },
  {
   "cell_type": "code",
   "execution_count": null,
   "metadata": {},
   "outputs": [],
   "source": [
    "image_url = model_obj.et\\\n",
    "    .getThumbURL({'min': 0.0, 'max': 10, 'palette': et_palette, \n",
    "                  'region': landsat_region, 'dimensions': image_size})\n",
    "Image(image_url, embed=True, format='png')"
   ]
  },
  {
   "cell_type": "code",
   "execution_count": null,
   "metadata": {},
   "outputs": [],
   "source": []
  },
  {
   "cell_type": "code",
   "execution_count": null,
   "metadata": {},
   "outputs": [],
   "source": []
  }
 ],
 "metadata": {
  "kernelspec": {
   "display_name": "Python 3 (Spyder)",
   "language": "python3",
   "name": "python3"
  },
  "language_info": {
   "codemirror_mode": {
    "name": "ipython",
    "version": 3
   },
   "file_extension": ".py",
   "mimetype": "text/x-python",
   "name": "python",
   "nbconvert_exporter": "python",
   "pygments_lexer": "ipython3",
   "version": "3.11.5"
  },
  "pycharm": {
   "stem_cell": {
    "cell_type": "raw",
    "metadata": {
     "collapsed": false
    },
    "source": []
   }
  }
 },
 "nbformat": 4,
 "nbformat_minor": 4
}

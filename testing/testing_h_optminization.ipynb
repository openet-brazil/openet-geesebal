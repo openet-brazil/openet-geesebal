{
 "cells": [
  {
   "cell_type": "code",
   "execution_count": 1,
   "metadata": {},
   "outputs": [],
   "source": [
    "import datetime\n",
    "import ee\n",
    "import pandas as pd\n",
    "import sys\n",
    "from IPython.display import Image\n",
    "import geopandas as gpd \n",
    "\n",
    "sys.path.append(r'C:\\openet_brazil\\openet-geesebal')\n",
    "\n",
    "import openet.geesebal as model\n",
    "\n",
    "ee.Initialize()"
   ]
  },
  {
   "cell_type": "code",
   "execution_count": 2,
   "metadata": {},
   "outputs": [],
   "source": [
    "collections = [ \n",
    "    'LANDSAT/LT04/C02/T1_L2',\n",
    "    'LANDSAT/LT05/C02/T1_L2',\n",
    "    'LANDSAT/LE07/C02/T1_L2',\n",
    "    'LANDSAT/LC08/C02/T1_L2',\n",
    "    'LANDSAT/LC09/C02/T1_L2']\n",
    "\n",
    "# towers file\n",
    "towers_info = gpd.read_file(r\"C:\\openet_brazil\\flux-towers-data-br\\location\\FluxTowers_SA_2023.shp\")\n",
    "\n",
    "# Date range you want to aggregate ET over\n",
    "start_date = '2006-01-01'\n",
    "end_date = '2006-12-31'\n",
    "\n",
    "# Only keep images with an average cloud cover less than\n",
    "# Cloud cover filter parameter is not being passed in (yet)\n",
    "cloud_cover = 30\n",
    "\n",
    "# tower name\n",
    "tower_name = 'BAN'\n",
    "\n",
    "# get geometry\n",
    "tower_location = towers_info[towers_info['site_id'] == tower_name.upper()]['geometry']\n",
    "\n",
    "test_point = ee.Geometry.Point(tower_location.x.values[0], tower_location.y.values[0])\n",
    "study_area = ee.Geometry.Rectangle(-122.00, 38.60, -121.00, 39.0)\n"
   ]
  },
  {
   "cell_type": "code",
   "execution_count": 9,
   "metadata": {},
   "outputs": [
    {
     "data": {
      "text/plain": [
       "['LANDSAT/LT05/C02/T1_L2/LT05_223067_20060129',\n",
       " 'LANDSAT/LT05/C02/T1_L2/LT05_223067_20060419',\n",
       " 'LANDSAT/LT05/C02/T1_L2/LT05_223067_20060606',\n",
       " 'LANDSAT/LT05/C02/T1_L2/LT05_223067_20060622',\n",
       " 'LANDSAT/LT05/C02/T1_L2/LT05_223067_20060708',\n",
       " 'LANDSAT/LT05/C02/T1_L2/LT05_223067_20060724',\n",
       " 'LANDSAT/LT05/C02/T1_L2/LT05_223067_20060809',\n",
       " 'LANDSAT/LT05/C02/T1_L2/LT05_223067_20060825',\n",
       " 'LANDSAT/LT05/C02/T1_L2/LT05_223067_20060910',\n",
       " 'LANDSAT/LE07/C02/T1_L2/LE07_223067_20060121',\n",
       " 'LANDSAT/LE07/C02/T1_L2/LE07_223067_20060614',\n",
       " 'LANDSAT/LE07/C02/T1_L2/LE07_223067_20060630',\n",
       " 'LANDSAT/LE07/C02/T1_L2/LE07_223067_20060716',\n",
       " 'LANDSAT/LE07/C02/T1_L2/LE07_223067_20060801',\n",
       " 'LANDSAT/LE07/C02/T1_L2/LE07_223067_20060817',\n",
       " 'LANDSAT/LE07/C02/T1_L2/LE07_223067_20060902',\n",
       " 'LANDSAT/LE07/C02/T1_L2/LE07_223067_20060918']"
      ]
     },
     "execution_count": 9,
     "metadata": {},
     "output_type": "execute_result"
    }
   ],
   "source": [
    "\n",
    "model_obj = model.Collection(\n",
    "    collections=collections,\n",
    "    start_date=start_date,\n",
    "    end_date=end_date,\n",
    "    geometry=test_point,\n",
    "    cloud_cover_max=30,\n",
    "    model_args={\n",
    "    'h_optmization':True,\n",
    "    'meteo_location' :'br'\n",
    "    # filter_args={},\n",
    "    }\n",
    ")\n",
    "\n",
    "model_obj.get_image_ids()"
   ]
  },
  {
   "cell_type": "code",
   "execution_count": 10,
   "metadata": {},
   "outputs": [],
   "source": [
    "et_col = model_obj.overpass(variables=[ 'et'])\n"
   ]
  },
  {
   "cell_type": "code",
   "execution_count": 7,
   "metadata": {},
   "outputs": [],
   "source": [
    "\n",
    "def get_table(img):\n",
    "    \n",
    "    reduce= img.reduceRegion(\n",
    "        reducer=ee.Reducer.mean(),\n",
    "        scale=90,\n",
    "        maxPixels=1e12,\n",
    "        geometry=test_point)\n",
    "\n",
    "    date= ee.Date(img.get('system:time_start')).format('YYYY-MM-dd')\n",
    "    \n",
    "    return ee.Feature(None, {\n",
    "      'date' : date,\n",
    "      'et': ee.List([reduce.get('et'),-9999]).reduce(ee.Reducer.firstNonNull()),\n",
    "    })\n",
    "                                          \n"
   ]
  },
  {
   "cell_type": "code",
   "execution_count": 11,
   "metadata": {},
   "outputs": [
    {
     "data": {
      "text/plain": [
       "{'type': 'FeatureCollection',\n",
       " 'columns': {},\n",
       " 'features': [{'type': 'Feature',\n",
       "   'geometry': None,\n",
       "   'id': '1_2_LT05_223067_20060129',\n",
       "   'properties': {'date': '2006-01-29', 'et': 4.608010768890381}}]}"
      ]
     },
     "execution_count": 11,
     "metadata": {},
     "output_type": "execute_result"
    }
   ],
   "source": [
    "et_col.map(get_table).limit(1).getInfo()"
   ]
  },
  {
   "cell_type": "code",
   "execution_count": 7,
   "metadata": {},
   "outputs": [],
   "source": [
    "# Export the image sample feature collection to Drive as a CSV file.\n",
    "task = ee.batch.Export.table.toDrive(\n",
    "    collection=et_col.map(get_table),\n",
    "    description='geesebal-h-opt-true-v2',\n",
    "    folder='geesebal-python',\n",
    "    fileFormat='CSV',\n",
    ")\n",
    "task.start()\n"
   ]
  },
  {
   "cell_type": "code",
   "execution_count": null,
   "metadata": {},
   "outputs": [],
   "source": []
  }
 ],
 "metadata": {
  "kernelspec": {
   "display_name": "base",
   "language": "python",
   "name": "python3"
  },
  "language_info": {
   "codemirror_mode": {
    "name": "ipython",
    "version": 3
   },
   "file_extension": ".py",
   "mimetype": "text/x-python",
   "name": "python",
   "nbconvert_exporter": "python",
   "pygments_lexer": "ipython3",
   "version": "3.9.12"
  }
 },
 "nbformat": 4,
 "nbformat_minor": 2
}
